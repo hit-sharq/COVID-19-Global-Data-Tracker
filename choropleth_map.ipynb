{
 "cells": [
  {
   "cell_type": "markdown",
   "metadata": {},
   "source": [
    "# COVID-19 Global Data Tracker\n",
    "## Choropleth Map Visualization (Optional)"
   ]
  },
  {
   "cell_type": "code",
   "execution_count": null,
   "metadata": {},
   "outputs": [],
   "source": [
    "import pandas as pd\n",
    "import plotly.express as px\n",
    "\n",
    "# Load the dataset\n",
    "df = pd.read_csv('owid-covid-data.csv')\n",
    "\n",
    "# Prepare dataframe with iso_code and total_cases for the latest date\n",
    "latest_date = df['date'].max()\n",
    "df_latest = df[df['date'] == latest_date]\n",
    "df_latest = df_latest[['iso_code', 'location', 'total_cases', 'total_vaccinations']]\n",
    "\n",
    "# Plot choropleth map showing case density\n",
    "fig = px.choropleth(df_latest, locations='iso_code', color='total_cases', hover_name='location',\n",
    "                    color_continuous_scale='Reds',\n",
    "                    title='COVID-19 Total Cases by Country')\n",
    "fig.show()\n",
    "\n",
    "# Optional: Plot choropleth map showing vaccination rates\n",
    "fig2 = px.choropleth(df_latest, locations='iso_code', color='total_vaccinations', hover_name='location',\n",
    "                     color_continuous_scale='Blues',\n",
    "                     title='COVID-19 Total Vaccinations by Country')\n",
    "fig2.show()"
   ]
  }
 ],
 "metadata": {
  "kernelspec": {
   "display_name": "Python 3",
   "language": "python",
   "name": "python3"
  },
  "language_info": {
   "codemirror_mode": {
    "name": "ipython",
    "version": 3
   },
   "file_extension": ".py",
   "mimetype": "text/x-python",
   "name": "python",
   "nbconvert_exporter": "python",
   "pygments_lexer": "ipython3",
   "version": "3.8.5"
  }
 },
 "nbformat": 4,
 "nbformat_minor": 4
}
