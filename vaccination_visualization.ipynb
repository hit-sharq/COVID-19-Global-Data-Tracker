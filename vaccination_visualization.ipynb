{
 "cells": [
  {
   "cell_type": "markdown",
   "metadata": {},
   "source": [
    "# COVID-19 Global Data Tracker\n",
    "## Vaccination Progress Visualization"
   ]
  },
  {
   "cell_type": "code",
   "execution_count": null,
   "metadata": {},
   "outputs": [],
   "source": [
    "import pandas as pd\n",
    "import matplotlib.pyplot as plt\n",
    "import seaborn as sns\n",
    "\n",
    "# Load the cleaned dataset\n",
    "df_filtered = pd.read_csv('owid-covid-data.csv')\n",
    "df_filtered = df_filtered[df_filtered['location'].isin(['Kenya', 'USA', 'India'])]\n",
    "df_filtered['date'] = pd.to_datetime(df_filtered['date'])\n",
    "\n",
    "# Plot cumulative vaccinations over time for selected countries\n",
    "plt.figure(figsize=(12, 6))\n",
    "sns.lineplot(data=df_filtered, x='date', y='total_vaccinations', hue='location')\n",
    "plt.title('Cumulative COVID-19 Vaccinations Over Time')\n",
    "plt.xlabel('Date')\n",
    "plt.ylabel('Total Vaccinations')\n",
    "plt.legend(title='Country')\n",
    "plt.show()\n",
    "\n",
    "# Compare % vaccinated population\n",
    "plt.figure(figsize=(12, 6))\n",
    "sns.lineplot(data=df_filtered, x='date', y='people_vaccinated_per_hundred', hue='location')\n",
    "plt.title('Percentage of Population Vaccinated Over Time')\n",
    "plt.xlabel('Date')\n",
    "plt.ylabel('People Vaccinated per Hundred')\n",
    "plt.legend(title='Country')\n",
    "plt.show()"
   ]
  }
 ],
 "metadata": {
  "kernelspec": {
   "display_name": "Python 3",
   "language": "python",
   "name": "python3"
  },
  "language_info": {
   "codemirror_mode": {
    "name": "ipython",
    "version": 3
   },
   "file_extension": ".py",
   "mimetype": "text/x-python",
   "name": "python",
   "nbconvert_exporter": "python",
   "pygments_lexer": "ipython3",
   "version": "3.8.5"
  }
 },
 "nbformat": 4,
 "nbformat_minor": 4
}
