{
 "cells": [
  {
   "cell_type": "markdown",
   "metadata": {},
   "source": [
    "# COVID-19 Global Data Tracker\n",
    "## Data Loading & Exploration"
   ]
  },
  {
   "cell_type": "code",
   "execution_count": null,
   "metadata": {},
   "outputs": [],
   "source": [
    "import pandas as pd\n",
    "\n",
    "# Load the dataset\n",
    "df = pd.read_csv('owid-covid-data.csv')\n",
    "\n",
    "# Check columns\n",
    "print(df.columns)\n",
    "\n",
    "# Preview first 5 rows\n",
    "print(df.head())\n",
    "\n",
    "# Identify missing values\n",
    "print(df.isnull().sum())"
   ]
  },
  {
   "cell_type": "markdown",
   "metadata": {},
   "source": [
    "## Data Cleaning"
   ]
  },
  {
   "cell_type": "code",
   "execution_count": null,
   "metadata": {},
   "outputs": [],
   "source": [
    "# Filter countries of interest\n",
    "countries = ['Kenya', 'USA', 'India']\n",
    "df_filtered = df[df['location'].isin(countries)]\n",
    "\n",
    "# Drop rows with missing dates or critical values\n",
    "df_filtered = df_filtered.dropna(subset=['date', 'total_cases', 'total_deaths'])\n",
    "\n",
    "# Convert date column to datetime\n",
    "df_filtered['date'] = pd.to_datetime(df_filtered['date'])\n",
    "\n",
    "# Handle missing numeric values with fillna or interpolate\n",
    "df_filtered['total_cases'] = df_filtered['total_cases'].fillna(method='ffill')\n",
    "df_filtered['total_deaths'] = df_filtered['total_deaths'].fillna(method='ffill')\n",
    "\n",
    "# Preview cleaned data\n",
    "print(df_filtered.head())"
   ]
  },
  {
   "cell_type": "markdown",
   "metadata": {},
   "source": [
    "## Exploratory Data Analysis (EDA)"
   ]
  },
  {
   "cell_type": "code",
   "execution_count": null,
   "metadata": {},
   "outputs": [],
   "source": [
    "import matplotlib.pyplot as plt\n",
    "import seaborn as sns\n",
    "\n",
    "# Plot total cases over time for selected countries\n",
    "plt.figure(figsize=(12, 6))\n",
    "sns.lineplot(data=df_filtered, x='date', y='total_cases', hue='location')\n",
    "plt.title('Total COVID-19 Cases Over Time')\n",
    "plt.xlabel('Date')\n",
    "plt.ylabel('Total Cases')\n",
    "plt.legend(title='Country')\n",
    "plt.show()\n",
    "\n",
    "# Plot total deaths over time\n",
    "plt.figure(figsize=(12, 6))\n",
    "sns.lineplot(data=df_filtered, x='date', y='total_deaths', hue='location')\n",
    "plt.title('Total COVID-19 Deaths Over Time')\n",
    "plt.xlabel('Date')\n",
    "plt.ylabel('Total Deaths')\n",
    "plt.legend(title='Country')\n",
    "plt.show()\n",
    "\n",
    "# Compare daily new cases between countries\n",
    "plt.figure(figsize=(12, 6))\n",
    "sns.lineplot(data=df_filtered, x='date', y='new_cases', hue='location')\n",
    "plt.title('Daily New COVID-19 Cases')\n",
    "plt.xlabel('Date')\n",
    "plt.ylabel('New Cases')\n",
    "plt.legend(title='Country')\n",
    "plt.show()\n",
    "\n",
    "# Calculate death rate\n",
    "df_filtered['death_rate'] = df_filtered['total_deaths'] / df_filtered['total_cases']\n",
    "print(df_filtered[['location', 'date', 'death_rate']].head())"
   ]
  }
 ],
 "metadata": {
  "kernelspec": {
   "display_name": "Python 3",
   "language": "python",
   "name": "python3"
  },
  "language_info": {
   "codemirror_mode": {
    "name": "ipython",
    "version": 3
   },
   "file_extension": ".py",
   "mimetype": "text/x-python",
   "name": "python",
   "nbconvert_exporter": "python",
   "pygments_lexer": "ipython3",
   "version": "3.8.5"
  }
 },
 "nbformat": 4,
 "nbformat_minor": 4
}
