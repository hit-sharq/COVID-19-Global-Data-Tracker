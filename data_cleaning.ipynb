{
 "cells": [
  {
   "cell_type": "markdown",
   "metadata": {},
   "source": [
    "# COVID-19 Global Data Tracker\n",
    "## Data Cleaning"
   ]
  },
  {
   "cell_type": "code",
   "execution_count": null,
   "metadata": {},
   "outputs": [],
   "source": [
    "import pandas as pd\n",
    "\n",
    "# Load the dataset\n",
    "df = pd.read_csv('owid-covid-data.csv')\n",
    "\n",
    "# Filter countries of interest\n",
    "countries = ['Kenya', 'USA', 'India']\n",
    "df_filtered = df[df['location'].isin(countries)]\n",
    "\n",
    "# Drop rows with missing dates or critical values\n",
    "df_filtered = df_filtered.dropna(subset=['date', 'total_cases', 'total_deaths'])\n",
    "\n",
    "# Convert date column to datetime\n",
    "df_filtered['date'] = pd.to_datetime(df_filtered['date'])\n",
    "\n",
    "# Handle missing numeric values with fillna or interpolate\n",
    "df_filtered['total_cases'] = df_filtered['total_cases'].fillna(method='ffill')\n",
    "df_filtered['total_deaths'] = df_filtered['total_deaths'].fillna(method='ffill')\n",
    "\n",
    "# Preview cleaned data\n",
    "print(df_filtered.head())"
   ]
  }
 ],
 "metadata": {
  "kernelspec": {
   "display_name": "Python 3",
   "language": "python",
   "name": "python3"
  },
  "language_info": {
   "codemirror_mode": {
    "name": "ipython",
    "version": 3
   },
   "file_extension": ".py",
   "mimetype": "text/x-python",
   "name": "python",
   "nbconvert_exporter": "python",
   "pygments_lexer": "ipython3",
   "version": "3.8.5"
  }
 },
 "nbformat": 4,
 "nbformat_minor": 4
}
